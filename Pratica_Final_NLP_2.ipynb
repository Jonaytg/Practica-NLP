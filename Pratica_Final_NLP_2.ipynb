{
  "nbformat": 4,
  "nbformat_minor": 0,
  "metadata": {
    "colab": {
      "provenance": []
    },
    "kernelspec": {
      "name": "python3",
      "display_name": "Python 3"
    },
    "language_info": {
      "name": "python"
    }
  },
  "cells": [
    {
      "cell_type": "markdown",
      "source": [
        "# Práctica Final de NLP"
      ],
      "metadata": {
        "id": "CRzRPibL2ckO"
      }
    },
    {
      "cell_type": "markdown",
      "source": [
        "# 2. Preprocesado de texto"
      ],
      "metadata": {
        "id": "3n__hCzWcbte"
      }
    },
    {
      "cell_type": "markdown",
      "source": [
        "* En primer lugar, cargamos los datos."
      ],
      "metadata": {
        "id": "qIlS7a1G2nKO"
      }
    },
    {
      "cell_type": "code",
      "source": [
        "df_reviews = pd.read_csv(\"Dataframe_NLP.csv\")"
      ],
      "metadata": {
        "id": "qDFa8YVv2nQv"
      },
      "execution_count": 25,
      "outputs": []
    },
    {
      "cell_type": "markdown",
      "source": [
        "* Creamos funciones de python independientes que realizan tareas concretas de limpieza de los datos."
      ],
      "metadata": {
        "id": "_5V4Xif22biZ"
      }
    },
    {
      "cell_type": "code",
      "source": [
        "def remove_stopwords(doc):\n",
        "    return [token for token in doc if not token.is_stop]"
      ],
      "metadata": {
        "id": "n9RjPMePI8lL"
      },
      "execution_count": 26,
      "outputs": []
    },
    {
      "cell_type": "code",
      "source": [
        "def remove_punct(doc):\n",
        "    return [token for token in doc if not token.is_punct]"
      ],
      "metadata": {
        "id": "pOo4qoVIJDe-"
      },
      "execution_count": 27,
      "outputs": []
    },
    {
      "cell_type": "code",
      "source": [
        "def remove_numbers(doc):\n",
        "    return [token for token in doc if not token.like_num]"
      ],
      "metadata": {
        "id": "ybO4ZgOQTXPr"
      },
      "execution_count": 28,
      "outputs": []
    },
    {
      "cell_type": "code",
      "source": [
        "def remove_short_tokens(doc, min_length=3):\n",
        "    return [token for token in doc if len(token) >= min_length]"
      ],
      "metadata": {
        "id": "nHX7RP9VTewD"
      },
      "execution_count": 29,
      "outputs": []
    },
    {
      "cell_type": "code",
      "source": [
        "def lemmatization(doc):\n",
        "    return [token.lemma_ for token in doc]"
      ],
      "metadata": {
        "id": "KT6odqXJJK3N"
      },
      "execution_count": 30,
      "outputs": []
    },
    {
      "cell_type": "code",
      "source": [
        "def cleaning(text):\n",
        "  text = text.lower()\n",
        "  doc = nlp(text)\n",
        "  tokens = remove_stopwords(doc)\n",
        "  tokens = remove_punct(tokens)\n",
        "  tokens = remove_numbers(tokens)\n",
        "  tokens = remove_short_tokens(tokens)\n",
        "  tokens = lemmatization(tokens)\n",
        "  return ' '.join(tokens)"
      ],
      "metadata": {
        "id": "9u6Npv4bcd-S"
      },
      "execution_count": 31,
      "outputs": []
    },
    {
      "cell_type": "code",
      "source": [
        "df_reviews['cleaned_text'] = df_reviews['reviewText'].apply(cleaning)"
      ],
      "metadata": {
        "id": "HwpMxSOVcgPF"
      },
      "execution_count": 32,
      "outputs": []
    },
    {
      "cell_type": "code",
      "source": [
        "df_reviews.head()"
      ],
      "metadata": {
        "colab": {
          "base_uri": "https://localhost:8080/",
          "height": 206
        },
        "id": "Fm_eaCsgA4NY",
        "outputId": "43d1e7ea-70d9-4345-e471-17975e0dfadb"
      },
      "execution_count": 33,
      "outputs": [
        {
          "output_type": "execute_result",
          "data": {
            "text/plain": [
              "                                          reviewText  overall  \\\n",
              "0  Wow, I loved this sorry of the 1920's circus l...      5.0   \n",
              "1  I loved Water for Elephants.  I have always be...      5.0   \n",
              "2  Fast moving and gripping novel.  Historical de...      5.0   \n",
              "3  This book provides a reflection that you can a...      5.0   \n",
              "4  Book DescriptionAs a young man, Jacob Jankowsk...      4.0   \n",
              "\n",
              "                                              tokens  \\\n",
              "0  ['Wow', ',', 'I', 'loved', 'this', 'sorry', 'o...   \n",
              "1  ['I', 'loved', 'Water', 'for', 'Elephants', '....   \n",
              "2  ['Fast', 'moving', 'and', 'gripping', 'novel',...   \n",
              "3  ['This', 'book', 'provides', 'a', 'reflection'...   \n",
              "4  ['Book', 'DescriptionAs', 'a', 'young', 'man',...   \n",
              "\n",
              "                                        cleaned_text  \n",
              "0  wow love sorry circus life love relate person ...  \n",
              "1  love water elephant interested circus folk lif...  \n",
              "2  fast move grip novel historical detail circus ...  \n",
              "3  book provide reflection apply life.and way try...  \n",
              "4  book descriptiona young man jacob jankowski to...  "
            ],
            "text/html": [
              "\n",
              "  <div id=\"df-d319773c-0376-4d94-8d7c-068871f4fdd8\" class=\"colab-df-container\">\n",
              "    <div>\n",
              "<style scoped>\n",
              "    .dataframe tbody tr th:only-of-type {\n",
              "        vertical-align: middle;\n",
              "    }\n",
              "\n",
              "    .dataframe tbody tr th {\n",
              "        vertical-align: top;\n",
              "    }\n",
              "\n",
              "    .dataframe thead th {\n",
              "        text-align: right;\n",
              "    }\n",
              "</style>\n",
              "<table border=\"1\" class=\"dataframe\">\n",
              "  <thead>\n",
              "    <tr style=\"text-align: right;\">\n",
              "      <th></th>\n",
              "      <th>reviewText</th>\n",
              "      <th>overall</th>\n",
              "      <th>tokens</th>\n",
              "      <th>cleaned_text</th>\n",
              "    </tr>\n",
              "  </thead>\n",
              "  <tbody>\n",
              "    <tr>\n",
              "      <th>0</th>\n",
              "      <td>Wow, I loved this sorry of the 1920's circus l...</td>\n",
              "      <td>5.0</td>\n",
              "      <td>['Wow', ',', 'I', 'loved', 'this', 'sorry', 'o...</td>\n",
              "      <td>wow love sorry circus life love relate person ...</td>\n",
              "    </tr>\n",
              "    <tr>\n",
              "      <th>1</th>\n",
              "      <td>I loved Water for Elephants.  I have always be...</td>\n",
              "      <td>5.0</td>\n",
              "      <td>['I', 'loved', 'Water', 'for', 'Elephants', '....</td>\n",
              "      <td>love water elephant interested circus folk lif...</td>\n",
              "    </tr>\n",
              "    <tr>\n",
              "      <th>2</th>\n",
              "      <td>Fast moving and gripping novel.  Historical de...</td>\n",
              "      <td>5.0</td>\n",
              "      <td>['Fast', 'moving', 'and', 'gripping', 'novel',...</td>\n",
              "      <td>fast move grip novel historical detail circus ...</td>\n",
              "    </tr>\n",
              "    <tr>\n",
              "      <th>3</th>\n",
              "      <td>This book provides a reflection that you can a...</td>\n",
              "      <td>5.0</td>\n",
              "      <td>['This', 'book', 'provides', 'a', 'reflection'...</td>\n",
              "      <td>book provide reflection apply life.and way try...</td>\n",
              "    </tr>\n",
              "    <tr>\n",
              "      <th>4</th>\n",
              "      <td>Book DescriptionAs a young man, Jacob Jankowsk...</td>\n",
              "      <td>4.0</td>\n",
              "      <td>['Book', 'DescriptionAs', 'a', 'young', 'man',...</td>\n",
              "      <td>book descriptiona young man jacob jankowski to...</td>\n",
              "    </tr>\n",
              "  </tbody>\n",
              "</table>\n",
              "</div>\n",
              "    <div class=\"colab-df-buttons\">\n",
              "\n",
              "  <div class=\"colab-df-container\">\n",
              "    <button class=\"colab-df-convert\" onclick=\"convertToInteractive('df-d319773c-0376-4d94-8d7c-068871f4fdd8')\"\n",
              "            title=\"Convert this dataframe to an interactive table.\"\n",
              "            style=\"display:none;\">\n",
              "\n",
              "  <svg xmlns=\"http://www.w3.org/2000/svg\" height=\"24px\" viewBox=\"0 -960 960 960\">\n",
              "    <path d=\"M120-120v-720h720v720H120Zm60-500h600v-160H180v160Zm220 220h160v-160H400v160Zm0 220h160v-160H400v160ZM180-400h160v-160H180v160Zm440 0h160v-160H620v160ZM180-180h160v-160H180v160Zm440 0h160v-160H620v160Z\"/>\n",
              "  </svg>\n",
              "    </button>\n",
              "\n",
              "  <style>\n",
              "    .colab-df-container {\n",
              "      display:flex;\n",
              "      gap: 12px;\n",
              "    }\n",
              "\n",
              "    .colab-df-convert {\n",
              "      background-color: #E8F0FE;\n",
              "      border: none;\n",
              "      border-radius: 50%;\n",
              "      cursor: pointer;\n",
              "      display: none;\n",
              "      fill: #1967D2;\n",
              "      height: 32px;\n",
              "      padding: 0 0 0 0;\n",
              "      width: 32px;\n",
              "    }\n",
              "\n",
              "    .colab-df-convert:hover {\n",
              "      background-color: #E2EBFA;\n",
              "      box-shadow: 0px 1px 2px rgba(60, 64, 67, 0.3), 0px 1px 3px 1px rgba(60, 64, 67, 0.15);\n",
              "      fill: #174EA6;\n",
              "    }\n",
              "\n",
              "    .colab-df-buttons div {\n",
              "      margin-bottom: 4px;\n",
              "    }\n",
              "\n",
              "    [theme=dark] .colab-df-convert {\n",
              "      background-color: #3B4455;\n",
              "      fill: #D2E3FC;\n",
              "    }\n",
              "\n",
              "    [theme=dark] .colab-df-convert:hover {\n",
              "      background-color: #434B5C;\n",
              "      box-shadow: 0px 1px 3px 1px rgba(0, 0, 0, 0.15);\n",
              "      filter: drop-shadow(0px 1px 2px rgba(0, 0, 0, 0.3));\n",
              "      fill: #FFFFFF;\n",
              "    }\n",
              "  </style>\n",
              "\n",
              "    <script>\n",
              "      const buttonEl =\n",
              "        document.querySelector('#df-d319773c-0376-4d94-8d7c-068871f4fdd8 button.colab-df-convert');\n",
              "      buttonEl.style.display =\n",
              "        google.colab.kernel.accessAllowed ? 'block' : 'none';\n",
              "\n",
              "      async function convertToInteractive(key) {\n",
              "        const element = document.querySelector('#df-d319773c-0376-4d94-8d7c-068871f4fdd8');\n",
              "        const dataTable =\n",
              "          await google.colab.kernel.invokeFunction('convertToInteractive',\n",
              "                                                    [key], {});\n",
              "        if (!dataTable) return;\n",
              "\n",
              "        const docLinkHtml = 'Like what you see? Visit the ' +\n",
              "          '<a target=\"_blank\" href=https://colab.research.google.com/notebooks/data_table.ipynb>data table notebook</a>'\n",
              "          + ' to learn more about interactive tables.';\n",
              "        element.innerHTML = '';\n",
              "        dataTable['output_type'] = 'display_data';\n",
              "        await google.colab.output.renderOutput(dataTable, element);\n",
              "        const docLink = document.createElement('div');\n",
              "        docLink.innerHTML = docLinkHtml;\n",
              "        element.appendChild(docLink);\n",
              "      }\n",
              "    </script>\n",
              "  </div>\n",
              "\n",
              "\n",
              "<div id=\"df-5735d8dd-489b-4c27-af5d-f85417bc6cf5\">\n",
              "  <button class=\"colab-df-quickchart\" onclick=\"quickchart('df-5735d8dd-489b-4c27-af5d-f85417bc6cf5')\"\n",
              "            title=\"Suggest charts\"\n",
              "            style=\"display:none;\">\n",
              "\n",
              "<svg xmlns=\"http://www.w3.org/2000/svg\" height=\"24px\"viewBox=\"0 0 24 24\"\n",
              "     width=\"24px\">\n",
              "    <g>\n",
              "        <path d=\"M19 3H5c-1.1 0-2 .9-2 2v14c0 1.1.9 2 2 2h14c1.1 0 2-.9 2-2V5c0-1.1-.9-2-2-2zM9 17H7v-7h2v7zm4 0h-2V7h2v10zm4 0h-2v-4h2v4z\"/>\n",
              "    </g>\n",
              "</svg>\n",
              "  </button>\n",
              "\n",
              "<style>\n",
              "  .colab-df-quickchart {\n",
              "      --bg-color: #E8F0FE;\n",
              "      --fill-color: #1967D2;\n",
              "      --hover-bg-color: #E2EBFA;\n",
              "      --hover-fill-color: #174EA6;\n",
              "      --disabled-fill-color: #AAA;\n",
              "      --disabled-bg-color: #DDD;\n",
              "  }\n",
              "\n",
              "  [theme=dark] .colab-df-quickchart {\n",
              "      --bg-color: #3B4455;\n",
              "      --fill-color: #D2E3FC;\n",
              "      --hover-bg-color: #434B5C;\n",
              "      --hover-fill-color: #FFFFFF;\n",
              "      --disabled-bg-color: #3B4455;\n",
              "      --disabled-fill-color: #666;\n",
              "  }\n",
              "\n",
              "  .colab-df-quickchart {\n",
              "    background-color: var(--bg-color);\n",
              "    border: none;\n",
              "    border-radius: 50%;\n",
              "    cursor: pointer;\n",
              "    display: none;\n",
              "    fill: var(--fill-color);\n",
              "    height: 32px;\n",
              "    padding: 0;\n",
              "    width: 32px;\n",
              "  }\n",
              "\n",
              "  .colab-df-quickchart:hover {\n",
              "    background-color: var(--hover-bg-color);\n",
              "    box-shadow: 0 1px 2px rgba(60, 64, 67, 0.3), 0 1px 3px 1px rgba(60, 64, 67, 0.15);\n",
              "    fill: var(--button-hover-fill-color);\n",
              "  }\n",
              "\n",
              "  .colab-df-quickchart-complete:disabled,\n",
              "  .colab-df-quickchart-complete:disabled:hover {\n",
              "    background-color: var(--disabled-bg-color);\n",
              "    fill: var(--disabled-fill-color);\n",
              "    box-shadow: none;\n",
              "  }\n",
              "\n",
              "  .colab-df-spinner {\n",
              "    border: 2px solid var(--fill-color);\n",
              "    border-color: transparent;\n",
              "    border-bottom-color: var(--fill-color);\n",
              "    animation:\n",
              "      spin 1s steps(1) infinite;\n",
              "  }\n",
              "\n",
              "  @keyframes spin {\n",
              "    0% {\n",
              "      border-color: transparent;\n",
              "      border-bottom-color: var(--fill-color);\n",
              "      border-left-color: var(--fill-color);\n",
              "    }\n",
              "    20% {\n",
              "      border-color: transparent;\n",
              "      border-left-color: var(--fill-color);\n",
              "      border-top-color: var(--fill-color);\n",
              "    }\n",
              "    30% {\n",
              "      border-color: transparent;\n",
              "      border-left-color: var(--fill-color);\n",
              "      border-top-color: var(--fill-color);\n",
              "      border-right-color: var(--fill-color);\n",
              "    }\n",
              "    40% {\n",
              "      border-color: transparent;\n",
              "      border-right-color: var(--fill-color);\n",
              "      border-top-color: var(--fill-color);\n",
              "    }\n",
              "    60% {\n",
              "      border-color: transparent;\n",
              "      border-right-color: var(--fill-color);\n",
              "    }\n",
              "    80% {\n",
              "      border-color: transparent;\n",
              "      border-right-color: var(--fill-color);\n",
              "      border-bottom-color: var(--fill-color);\n",
              "    }\n",
              "    90% {\n",
              "      border-color: transparent;\n",
              "      border-bottom-color: var(--fill-color);\n",
              "    }\n",
              "  }\n",
              "</style>\n",
              "\n",
              "  <script>\n",
              "    async function quickchart(key) {\n",
              "      const quickchartButtonEl =\n",
              "        document.querySelector('#' + key + ' button');\n",
              "      quickchartButtonEl.disabled = true;  // To prevent multiple clicks.\n",
              "      quickchartButtonEl.classList.add('colab-df-spinner');\n",
              "      try {\n",
              "        const charts = await google.colab.kernel.invokeFunction(\n",
              "            'suggestCharts', [key], {});\n",
              "      } catch (error) {\n",
              "        console.error('Error during call to suggestCharts:', error);\n",
              "      }\n",
              "      quickchartButtonEl.classList.remove('colab-df-spinner');\n",
              "      quickchartButtonEl.classList.add('colab-df-quickchart-complete');\n",
              "    }\n",
              "    (() => {\n",
              "      let quickchartButtonEl =\n",
              "        document.querySelector('#df-5735d8dd-489b-4c27-af5d-f85417bc6cf5 button');\n",
              "      quickchartButtonEl.style.display =\n",
              "        google.colab.kernel.accessAllowed ? 'block' : 'none';\n",
              "    })();\n",
              "  </script>\n",
              "</div>\n",
              "\n",
              "    </div>\n",
              "  </div>\n"
            ],
            "application/vnd.google.colaboratory.intrinsic+json": {
              "type": "dataframe",
              "variable_name": "df_reviews",
              "summary": "{\n  \"name\": \"df_reviews\",\n  \"rows\": 700,\n  \"fields\": [\n    {\n      \"column\": \"reviewText\",\n      \"properties\": {\n        \"dtype\": \"string\",\n        \"num_unique_values\": 700,\n        \"samples\": [\n          \"This is classic reading, which I did read when it was &#34;young&#34;.I was glad to find it available for Kindle.\",\n          \"Not a book I would have picked to read, but it was selected for my bookclub.  Have to say I loved it, it reminded me of one of my favorite novels, Angle of Repose by Wallace Stegner, in it's effective use of flashbacks. The story is different and engrossing, showing a subculture rarely seen.  I didn't expect to like a book about the circus, but found it fascinating.\",\n          \"Wow!  I picked this up to read on the airplane to & from Las Vegas.  I wound up finishing it while on my trip.Gruen is a wonderful story teller, you can tell she researched extensively for this novel.  While it's not a book really about a circus, that is the main setting for most of the book.  I really thought it would be a book all about Carnie Folk.  How far from the truth was I?!The story is told from the view of an ageing circus vet, which is different to begin with.  One would think that these types of stories would be told from performer's points of view & while that would be interesting, Jacob's POV is just as intriguing as another other's would have been.It's a great short read that's captivating & spellbinding.\"\n        ],\n        \"semantic_type\": \"\",\n        \"description\": \"\"\n      }\n    },\n    {\n      \"column\": \"overall\",\n      \"properties\": {\n        \"dtype\": \"number\",\n        \"std\": 1.6680470474123126,\n        \"min\": 1.0,\n        \"max\": 5.0,\n        \"num_unique_values\": 4,\n        \"samples\": [\n          4.0,\n          2.0,\n          5.0\n        ],\n        \"semantic_type\": \"\",\n        \"description\": \"\"\n      }\n    },\n    {\n      \"column\": \"tokens\",\n      \"properties\": {\n        \"dtype\": \"string\",\n        \"num_unique_values\": 700,\n        \"samples\": [\n          \"['This', 'is', 'classic', 'reading', ',', 'which', 'I', 'did', 'read', 'when', 'it', 'was', '&', '#', '34;young&#34;.I', 'was', 'glad', 'to', 'find', 'it', 'available', 'for', 'Kindle', '.']\",\n          \"['Not', 'a', 'book', 'I', 'would', 'have', 'picked', 'to', 'read', ',', 'but', 'it', 'was', 'selected', 'for', 'my', 'bookclub', '.', ' ', 'Have', 'to', 'say', 'I', 'loved', 'it', ',', 'it', 'reminded', 'me', 'of', 'one', 'of', 'my', 'favorite', 'novels', ',', 'Angle', 'of', 'Repose', 'by', 'Wallace', 'Stegner', ',', 'in', 'it', \\\"'s\\\", 'effective', 'use', 'of', 'flashbacks', '.', 'The', 'story', 'is', 'different', 'and', 'engrossing', ',', 'showing', 'a', 'subculture', 'rarely', 'seen', '.', ' ', 'I', 'did', \\\"n't\\\", 'expect', 'to', 'like', 'a', 'book', 'about', 'the', 'circus', ',', 'but', 'found', 'it', 'fascinating', '.']\",\n          \"['Wow', '!', ' ', 'I', 'picked', 'this', 'up', 'to', 'read', 'on', 'the', 'airplane', 'to', '&', 'from', 'Las', 'Vegas', '.', ' ', 'I', 'wound', 'up', 'finishing', 'it', 'while', 'on', 'my', 'trip', '.', 'Gruen', 'is', 'a', 'wonderful', 'story', 'teller', ',', 'you', 'can', 'tell', 'she', 'researched', 'extensively', 'for', 'this', 'novel', '.', ' ', 'While', 'it', \\\"'s\\\", 'not', 'a', 'book', 'really', 'about', 'a', 'circus', ',', 'that', 'is', 'the', 'main', 'setting', 'for', 'most', 'of', 'the', 'book', '.', ' ', 'I', 'really', 'thought', 'it', 'would', 'be', 'a', 'book', 'all', 'about', 'Carnie', 'Folk', '.', ' ', 'How', 'far', 'from', 'the', 'truth', 'was', 'I?!The', 'story', 'is', 'told', 'from', 'the', 'view', 'of', 'an', 'ageing', 'circus', 'vet', ',', 'which', 'is', 'different', 'to', 'begin', 'with', '.', ' ', 'One', 'would', 'think', 'that', 'these', 'types', 'of', 'stories', 'would', 'be', 'told', 'from', 'performer', \\\"'s\\\", 'points', 'of', 'view', '&', 'while', 'that', 'would', 'be', 'interesting', ',', 'Jacob', \\\"'s\\\", 'POV', 'is', 'just', 'as', 'intriguing', 'as', 'another', 'other', \\\"'s\\\", 'would', 'have', 'been', '.', 'It', \\\"'s\\\", 'a', 'great', 'short', 'read', 'that', \\\"'s\\\", 'captivating', '&', 'spellbinding', '.']\"\n        ],\n        \"semantic_type\": \"\",\n        \"description\": \"\"\n      }\n    },\n    {\n      \"column\": \"cleaned_text\",\n      \"properties\": {\n        \"dtype\": \"string\",\n        \"num_unique_values\": 700,\n        \"samples\": [\n          \"classic reading read 34;young&#34;.i glad find available kindle\",\n          \"book pick read select bookclub love remind favorite novel angle repose wallace stegner effective use flashback story different engrossing show subculture rarely see expect like book circus find fascinating\",\n          \"wow pick read airplane las vegas wind finish trip.gruen wonderful story teller tell research extensively novel book circus main setting book think book carnie folk far truth i?!the story tell view age circus vet different begin think type story tell performer point view interesting jacob pov intriguing been.it great short read captivate spellbinding\"\n        ],\n        \"semantic_type\": \"\",\n        \"description\": \"\"\n      }\n    }\n  ]\n}"
            }
          },
          "metadata": {},
          "execution_count": 33
        }
      ]
    },
    {
      "cell_type": "markdown",
      "source": [
        "* Dividimos el dataset y aplicamos las transformaciones necesarias sobre los datos de validación y test."
      ],
      "metadata": {
        "id": "pZEN2eLvuxDX"
      }
    },
    {
      "cell_type": "code",
      "source": [
        "x_train = df_reviews['cleaned_text']\n",
        "y_train = df_reviews['overall'].apply(lambda x: 1 if x > 3 else 0)"
      ],
      "metadata": {
        "id": "LCjdJC42ugaf"
      },
      "execution_count": 34,
      "outputs": []
    },
    {
      "cell_type": "code",
      "source": [
        "val_data['cleaned_text'] = val_data['reviewText'].apply(cleaning)\n",
        "test_data['cleaned_text'] = test_data['reviewText'].apply(cleaning)\n",
        "x_val = val_data['cleaned_text']\n",
        "y_val = val_data['overall'].apply(lambda x: 1 if x > 3 else 0)\n",
        "x_test = test_data['cleaned_text']\n",
        "y_test = test_data['overall'].apply(lambda x: 1 if x > 3 else 0)"
      ],
      "metadata": {
        "id": "yvLQWE74vIYV"
      },
      "execution_count": 35,
      "outputs": []
    },
    {
      "cell_type": "markdown",
      "source": [
        "* Guardamos los dataset\n",
        "\n"
      ],
      "metadata": {
        "id": "3RXSf_6y45Vc"
      }
    },
    {
      "cell_type": "code",
      "source": [
        "import numpy as np\n",
        "np.save(\"x_train_NLP.npy\", x_train)\n",
        "np.save(\"y_train_NLP.npy\", y_train)\n",
        "np.save(\"x_test_NLP.npy\", x_test)\n",
        "np.save(\"y_test_NLP.npy\", y_test)\n",
        "np.save(\"x_val_NLP.npy\", x_val)\n",
        "np.save(\"y_val_NLP.npy\", y_val)"
      ],
      "metadata": {
        "id": "26trJVOd4-gj"
      },
      "execution_count": 36,
      "outputs": []
    }
  ]
}